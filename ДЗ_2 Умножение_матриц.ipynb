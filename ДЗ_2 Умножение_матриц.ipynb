{
 "cells": [
  {
   "cell_type": "markdown",
   "id": "c82dffad",
   "metadata": {},
   "source": [
    "### Задание к уроку 2"
   ]
  },
  {
   "cell_type": "markdown",
   "id": "4b683be1",
   "metadata": {},
   "source": [
    "**5*. Написать на Python функцию для перемножения двух произвольных матриц, не используя NumPy.**"
   ]
  },
  {
   "cell_type": "code",
   "execution_count": 27,
   "id": "96ac2b6b",
   "metadata": {},
   "outputs": [],
   "source": [
    "# Создадим две матрицы А=3х3 и В=3х4 и перемножим их используя NumPy.\n",
    "# В результате получим матрицу размером 3х4.\n",
    "# Полученный результат будем использовать для проверки корректности работы нашей функции."
   ]
  },
  {
   "cell_type": "code",
   "execution_count": 28,
   "id": "f907c46e",
   "metadata": {},
   "outputs": [],
   "source": [
    "import numpy as np"
   ]
  },
  {
   "cell_type": "code",
   "execution_count": 29,
   "id": "21ee8080",
   "metadata": {},
   "outputs": [
    {
     "name": "stdout",
     "output_type": "stream",
     "text": [
      "Матрица A\n",
      "[[14  7  4]\n",
      " [ 3  5  8]\n",
      " [ 9  8  7]]\n",
      "\n",
      "Матрица B\n",
      "[[6 7 1 2]\n",
      " [7 6 4 0]\n",
      " [4 5 8 2]]\n",
      "\n",
      "Матрица AB\n",
      "[[149 160  74  36]\n",
      " [ 85  91  87  22]\n",
      " [138 146  97  32]]\n"
     ]
    }
   ],
   "source": [
    "A = np.array([[14, 7, 4], [3, 5, 8], [9, 8, 7]])\n",
    "B = np.array([[6, 7, 1, 2], [7, 6, 4, 0], [4, 5, 8, 2]])\n",
    "\n",
    "print(f'Матрица A\\n{A}\\n')\n",
    "print(f'Матрица B\\n{B}\\n')\n",
    "print(f'Матрица AB\\n{A @ B}')"
   ]
  },
  {
   "cell_type": "code",
   "execution_count": 30,
   "id": "9aea3e21",
   "metadata": {},
   "outputs": [
    {
     "name": "stdout",
     "output_type": "stream",
     "text": [
      "[149, 160, 74, 36]\n",
      "[85, 91, 87, 22]\n",
      "[138, 146, 97, 32]\n"
     ]
    }
   ],
   "source": [
    "# Будем использовать вложенные списки:\n",
    "\n",
    "result = [[sum(a * b for a, b in zip(A_row, B_col)) \n",
    "\n",
    "                        for B_col in zip(*B)]\n",
    "\n",
    "                                for A_row in A]\n",
    "\n",
    "  \n",
    "\n",
    "for r in result:\n",
    "\n",
    "    print(r)"
   ]
  }
 ],
 "metadata": {
  "kernelspec": {
   "display_name": "Python 3",
   "language": "python",
   "name": "python3"
  },
  "language_info": {
   "codemirror_mode": {
    "name": "ipython",
    "version": 3
   },
   "file_extension": ".py",
   "mimetype": "text/x-python",
   "name": "python",
   "nbconvert_exporter": "python",
   "pygments_lexer": "ipython3",
   "version": "3.8.6"
  }
 },
 "nbformat": 4,
 "nbformat_minor": 5
}
