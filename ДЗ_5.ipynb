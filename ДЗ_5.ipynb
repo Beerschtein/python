{
 "cells": [
  {
   "cell_type": "markdown",
   "id": "03bb2009",
   "metadata": {},
   "source": [
    "### Домашнее задание к уроку 5"
   ]
  },
  {
   "cell_type": "markdown",
   "id": "db74b29c",
   "metadata": {},
   "source": [
    "*1. Найти с помощью NumPy SVD для матрицы:*"
   ]
  },
  {
   "cell_type": "code",
   "execution_count": 1,
   "id": "95d7647c",
   "metadata": {},
   "outputs": [],
   "source": [
    "#     1 2 0\n",
    "#     0 0 5\n",
    "#     3 -4 2\n",
    "#     1 6 5\n",
    "#     0 1 0"
   ]
  },
  {
   "cell_type": "code",
   "execution_count": 2,
   "id": "f04346e6",
   "metadata": {},
   "outputs": [],
   "source": [
    "import numpy as np\n",
    "np.set_printoptions(precision=2, suppress=True)"
   ]
  },
  {
   "cell_type": "code",
   "execution_count": 3,
   "id": "4981ce33",
   "metadata": {},
   "outputs": [
    {
     "name": "stdout",
     "output_type": "stream",
     "text": [
      "Матрица A:\n",
      "[[ 1  2  0]\n",
      " [ 0  0  5]\n",
      " [ 3 -4  2]\n",
      " [ 1  6  5]\n",
      " [ 0  1  0]]\n"
     ]
    }
   ],
   "source": [
    "A = np.array([[1, 2, 0], \n",
    "              [0, 0, 5], \n",
    "              [3, -4, 2], \n",
    "              [1, 6, 5], \n",
    "              [0, 1, 0]])\n",
    "print(f'Матрица A:\\n{A}')"
   ]
  },
  {
   "cell_type": "code",
   "execution_count": 4,
   "id": "6eb03f7f",
   "metadata": {},
   "outputs": [],
   "source": [
    "U, s, W = np.linalg.svd(A)\n",
    "\n",
    "# Транспонируем матрицу W\n",
    "V = W.T\n",
    "\n",
    "# s - список диагональных элементов, его нужно привести к виду диагональной матрицы для наглядности\n",
    "D = np.zeros_like(A, dtype=float)\n",
    "D[np.diag_indices(min(A.shape))] = s"
   ]
  },
  {
   "cell_type": "code",
   "execution_count": 5,
   "id": "210b45d4",
   "metadata": {},
   "outputs": [
    {
     "name": "stdout",
     "output_type": "stream",
     "text": [
      "Матрица D:\n",
      "[[8.82 0.   0.  ]\n",
      " [0.   6.14 0.  ]\n",
      " [0.   0.   2.53]\n",
      " [0.   0.   0.  ]\n",
      " [0.   0.   0.  ]]\n"
     ]
    }
   ],
   "source": [
    "print(f'Матрица D:\\n{D}')"
   ]
  },
  {
   "cell_type": "code",
   "execution_count": 6,
   "id": "fcdb3e47",
   "metadata": {},
   "outputs": [
    {
     "name": "stdout",
     "output_type": "stream",
     "text": [
      "[8.82 6.14 2.53]\n"
     ]
    }
   ],
   "source": [
    "# То же самое, только в виде значений:\n",
    "print(s)"
   ]
  },
  {
   "cell_type": "code",
   "execution_count": 7,
   "id": "6c035e69",
   "metadata": {},
   "outputs": [
    {
     "name": "stdout",
     "output_type": "stream",
     "text": [
      "[[ 0.17  0.16 -0.53 -0.8  -0.16]\n",
      " [ 0.39 -0.53  0.61 -0.43  0.03]\n",
      " [-0.14 -0.82 -0.52  0.14  0.07]\n",
      " [ 0.89  0.06 -0.25  0.38 -0.06]\n",
      " [ 0.08  0.11 -0.08 -0.11  0.98]]\n"
     ]
    }
   ],
   "source": [
    "print(U)"
   ]
  },
  {
   "cell_type": "code",
   "execution_count": 8,
   "id": "cb68cd32",
   "metadata": {},
   "outputs": [
    {
     "name": "stdout",
     "output_type": "stream",
     "text": [
      "[[ 0.07 -0.37 -0.93]\n",
      " [ 0.72  0.67 -0.21]\n",
      " [ 0.69 -0.65  0.31]]\n"
     ]
    }
   ],
   "source": [
    "print(V)"
   ]
  },
  {
   "cell_type": "markdown",
   "id": "d47ab08d",
   "metadata": {},
   "source": [
    "*2. Для матрицы из предыдущего задания найти:*"
   ]
  },
  {
   "cell_type": "markdown",
   "id": "6f49b432",
   "metadata": {},
   "source": [
    "**а) евклидову норму**"
   ]
  },
  {
   "cell_type": "code",
   "execution_count": 9,
   "id": "d41efa29",
   "metadata": {},
   "outputs": [],
   "source": [
    "# Евклидова норма матрицы А равна ее максимальному сингулярному числу.\n",
    "# Максимальное сингулярное число матрицы можно получить с помощью функции \"numpy.linalg.norm\",\n",
    "# если указать параметр \"ord=2\":"
   ]
  },
  {
   "cell_type": "code",
   "execution_count": 10,
   "id": "52e86163",
   "metadata": {},
   "outputs": [
    {
     "data": {
      "text/plain": [
       "8.824868854820444"
      ]
     },
     "execution_count": 10,
     "metadata": {},
     "output_type": "execute_result"
    }
   ],
   "source": [
    "np.linalg.norm(A, ord=2)"
   ]
  },
  {
   "cell_type": "code",
   "execution_count": 11,
   "id": "84cb9bee",
   "metadata": {},
   "outputs": [],
   "source": [
    "# Полученное значение совпадает с максимальным значением в матрице D из задания 1."
   ]
  },
  {
   "cell_type": "markdown",
   "id": "31bc50bf",
   "metadata": {},
   "source": [
    "**б) норму Фробениуса**"
   ]
  },
  {
   "cell_type": "code",
   "execution_count": 12,
   "id": "7e72bae6",
   "metadata": {},
   "outputs": [],
   "source": [
    "# Норму Фробениуса матрицы А можно получить с помощью функции \"numpy.linalg.norm\", если указать параметр \"ord=2\",\n",
    "# \"ord=None\" либо ничего не указывать. Она установлена по умолчанию. В результате мы получим значение, \n",
    "# равное квадратному корню из суммы квадратов модулей элементов матрицы."
   ]
  },
  {
   "cell_type": "code",
   "execution_count": 13,
   "id": "c3446f26",
   "metadata": {},
   "outputs": [
    {
     "data": {
      "text/plain": [
       "11.045361017187261"
      ]
     },
     "execution_count": 13,
     "metadata": {},
     "output_type": "execute_result"
    }
   ],
   "source": [
    "np.linalg.norm(A, ord='fro')"
   ]
  },
  {
   "cell_type": "code",
   "execution_count": 14,
   "id": "3d025e36",
   "metadata": {},
   "outputs": [
    {
     "data": {
      "text/plain": [
       "11.045361017187261"
      ]
     },
     "execution_count": 14,
     "metadata": {},
     "output_type": "execute_result"
    }
   ],
   "source": [
    "np.linalg.norm(A, ord=None)"
   ]
  },
  {
   "cell_type": "code",
   "execution_count": 15,
   "id": "e2f24d7a",
   "metadata": {},
   "outputs": [
    {
     "data": {
      "text/plain": [
       "11.045361017187261"
      ]
     },
     "execution_count": 15,
     "metadata": {},
     "output_type": "execute_result"
    }
   ],
   "source": [
    "np.linalg.norm(A)"
   ]
  }
 ],
 "metadata": {
  "kernelspec": {
   "display_name": "Python 3",
   "language": "python",
   "name": "python3"
  },
  "language_info": {
   "codemirror_mode": {
    "name": "ipython",
    "version": 3
   },
   "file_extension": ".py",
   "mimetype": "text/x-python",
   "name": "python",
   "nbconvert_exporter": "python",
   "pygments_lexer": "ipython3",
   "version": "3.8.6"
  }
 },
 "nbformat": 4,
 "nbformat_minor": 5
}
